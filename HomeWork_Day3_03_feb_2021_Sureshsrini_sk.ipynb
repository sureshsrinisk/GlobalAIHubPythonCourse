{
 "cells": [
  {
   "attachments": {
    "image.png": {
     "image/png": "[encoded data removed]"
    }
   },
   "cell_type": "markdown",
   "metadata": {},
   "source": [
    "![image.png](attachment:image.png)"
   ]
  },
  {
   "cell_type": "markdown",
   "metadata": {},
   "source": [
    "Using if statement"
   ]
  },
  {
   "cell_type": "code",
   "execution_count": 4,
   "metadata": {},
   "outputs": [
    {
     "name": "stdout",
     "output_type": "stream",
     "text": [
      "****************Login***************\n",
      "User Name:asfda\n",
      "PassWord :afdasfsad\n",
      "************************************\n",
      "<< Invalid User Name and Password >>\n"
     ]
    }
   ],
   "source": [
    "# This program will read the inputs like username and password from the user and validate the same\n",
    "# Validations are as follows\n",
    "# 1. check for both the username and password are invalid if not error message\n",
    "# 2. check for the valid user name if not error message\n",
    "# 3. check for the valid password  if not error message\n",
    "# 4. if both are valid then it will message as entries are valid.\n",
    "\n",
    "# pre defined username and password using variable assignment.\n",
    "user='Global'\n",
    "pwd='Python@2021'\n",
    "\n",
    "# Get the user input\n",
    "print(\"****************Login***************\")\n",
    "inp_user=input(\"User Name:\")\n",
    "inp_pwd=input(\"PassWord :\")\n",
    "print(\"************************************\")\n",
    "\n",
    "# validation\n",
    "if inp_user != user and inp_pwd !=pwd:                      # both are not valid\n",
    "    print(\"<< Invalid User Name and Password >>\")\n",
    "elif inp_user != user:                                      # only the user name not valid\n",
    "    print(\"<< Invalid User Name >>\")\n",
    "elif inp_pwd != pwd:                                        # only the password not valid\n",
    "    print(\"<< Invalid Password >>\")\n",
    "else:                                                       # both the entries are valid\n",
    "    print(\"^^ Valid User Name and Password ^^, You are Through !!\")"
   ]
  },
  {
   "cell_type": "markdown",
   "metadata": {},
   "source": [
    "Using Dictionary"
   ]
  },
  {
   "cell_type": "code",
   "execution_count": 8,
   "metadata": {},
   "outputs": [
    {
     "name": "stdout",
     "output_type": "stream",
     "text": [
      "****************Login***************\n",
      "Enter the User Name :asfasdf\n",
      "Enter the Passwordafasdfads\n",
      "************************************\n",
      "Invalid User Name and Password\n"
     ]
    }
   ],
   "source": [
    "# same as the above program but instead of variable assignment dictionary is used.\n",
    "\n",
    "# create dictionary for the user name and password\n",
    "usrpwd={\"user\":\"Global\",\"pwd\":\"Python@2021\"}\n",
    "\n",
    "# Get the user input\n",
    "print(\"****************Login***************\")\n",
    "dinp_user=input('Enter the User Name :')\n",
    "dinp_pwd =input('Enter the Password')\n",
    "print(\"************************************\")\n",
    "dinp={'user':dinp_user,'pwd':dinp_pwd}\n",
    "\n",
    "#Validation\n",
    "if dinp['user'] != usrpwd['user'] and dinp['pwd'] != usrpwd['pwd']:  # both are in valid\n",
    "    print(\"Invalid User Name and Password\")\n",
    "elif dinp['user'] != usrpwd['user']:                                 # only the user name is invalid\n",
    "    print(\"Invalid User Name\")\n",
    "elif dinp['pwd'] != usrpwd['pwd']:                                   # only the password is invalid\n",
    "    print(\"Invalid Password\")\n",
    "else:                                                                # both are valid\n",
    "    print(\"^^ Valid User Name and Password^^, Login Successful !\")\n"
   ]
  },
  {
   "cell_type": "code",
   "execution_count": null,
   "metadata": {},
   "outputs": [],
   "source": []
  }
 ],
 "metadata": {
  "kernelspec": {
   "display_name": "Python 3",
   "language": "python",
   "name": "python3"
  },
  "language_info": {
   "codemirror_mode": {
    "name": "ipython",
    "version": 3
   },
   "file_extension": ".py",
   "mimetype": "text/x-python",
   "name": "python",
   "nbconvert_exporter": "python",
   "pygments_lexer": "ipython3",
   "version": "3.7.4"
  }
 },
 "nbformat": 4,
 "nbformat_minor": 2
}
