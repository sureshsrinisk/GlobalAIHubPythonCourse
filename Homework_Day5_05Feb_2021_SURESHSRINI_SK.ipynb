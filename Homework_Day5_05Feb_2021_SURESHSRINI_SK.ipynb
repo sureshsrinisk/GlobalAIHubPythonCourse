{
 "cells": [
  {
   "attachments": {
    "image.png": {
     "image/png": "[encoded data removed]"
    }
   },
   "cell_type": "markdown",
   "metadata": {},
   "source": [
    "![image.png](attachment:image.png)"
   ]
  },
  {
   "cell_type": "code",
   "execution_count": 1,
   "metadata": {},
   "outputs": [],
   "source": [
    "class animals():\n",
    "    def __init__(self,name,sound,kids):\n",
    "        self.animal_name=name\n",
    "        self.animal_sound=sound\n",
    "        self.animal_kids=kids\n",
    "               \n",
    "    def welcome_animal(self):\n",
    "        print('Welcome to the World of Animals !!')\n",
    "        \n",
    "    def name_animal(self):\n",
    "        print(\"I am :\",self.animal_name)\n",
    "        \n",
    "    def sounds_animal(self):\n",
    "        print(\"I communicate my presence through :\",self.animal_sound)\n",
    "        \n",
    "    def kids_animal(self):\n",
    "        print('My Kids are called :',self.animal_kids)\n",
    "        \n",
    "    def thanks_animal(self):\n",
    "        print('We are Domestic Animals.')\n",
    "        print('Thanks to listen my Story.')\n",
    "\n",
    "class dogs(animals):\n",
    "    def __init__(self,name,sound,kids):\n",
    "        super().__init__(name,sound,kids)\n",
    "        \n",
    "class cats(animals):\n",
    "    def __init__(self,name,sound,kids):\n",
    "        super().__init__(name,sound,kids)\n"
   ]
  },
  {
   "cell_type": "code",
   "execution_count": 2,
   "metadata": {},
   "outputs": [
    {
     "name": "stdout",
     "output_type": "stream",
     "text": [
      "Welcome to the World of Animals !!\n",
      "I am : Dog\n",
      "I communicate my presence through : bark\n",
      "My Kids are called : puppy\n",
      "We are Domestic Animals.\n",
      "Thanks to listen my Story.\n"
     ]
    }
   ],
   "source": [
    "dog=dogs('Dog','bark','puppy')\n",
    "dog.welcome_animal()\n",
    "dog.name_animal()\n",
    "dog.sounds_animal()\n",
    "dog.kids_animal()\n",
    "dog.thanks_animal()"
   ]
  },
  {
   "cell_type": "code",
   "execution_count": 3,
   "metadata": {},
   "outputs": [
    {
     "name": "stdout",
     "output_type": "stream",
     "text": [
      "Welcome to the World of Animals !!\n",
      "I am : Cat\n",
      "I communicate my presence through : meow\n",
      "My Kids are called : kittens\n",
      "We are Domestic Animals.\n",
      "Thanks to listen my Story.\n"
     ]
    }
   ],
   "source": [
    "cat=cats('Cat','meow','kittens')\n",
    "cat.welcome_animal()\n",
    "cat.name_animal()\n",
    "cat.sounds_animal()\n",
    "cat.kids_animal()\n",
    "cat.thanks_animal()"
   ]
  },
  {
   "cell_type": "code",
   "execution_count": null,
   "metadata": {},
   "outputs": [],
   "source": []
  }
 ],
 "metadata": {
  "kernelspec": {
   "display_name": "Python 3",
   "language": "python",
   "name": "python3"
  },
  "language_info": {
   "codemirror_mode": {
    "name": "ipython",
    "version": 3
   },
   "file_extension": ".py",
   "mimetype": "text/x-python",
   "name": "python",
   "nbconvert_exporter": "python",
   "pygments_lexer": "ipython3",
   "version": "3.7.4"
  }
 },
 "nbformat": 4,
 "nbformat_minor": 2
}
