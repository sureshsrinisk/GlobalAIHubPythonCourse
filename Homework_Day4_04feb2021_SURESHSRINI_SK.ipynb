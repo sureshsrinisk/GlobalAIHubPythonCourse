{
 "cells": [
  {
   "attachments": {
    "image.png": {
     "image/png": "[encoded data removed]"
    }
   },
   "cell_type": "markdown",
   "metadata": {},
   "source": [
    "![image.png](attachment:image.png)"
   ]
  },
  {
   "cell_type": "markdown",
   "metadata": {},
   "source": [
    "A prime number (or prime) is a natural number greater than 1 that has no positive divisors other than 1 and itself. "
   ]
  },
  {
   "cell_type": "code",
   "execution_count": 1,
   "metadata": {
    "scrolled": true
   },
   "outputs": [
    {
     "name": "stdout",
     "output_type": "stream",
     "text": [
      "[2, 3, 5, 7, 11, 13, 17, 19, 23, 29, 31, 37, 41, 43, 47, 53, 59, 61, 67, 71, 73, 79, 83, 89, 97]\n"
     ]
    }
   ],
   "source": [
    "def prime(num):\n",
    "    plist=[]\n",
    "    for i in range(0,num+1):\n",
    "        if i==0 or i==1:  # 0 or 1 are not prime numbers\n",
    "            continue\n",
    "        for j in range(2,num+1):\n",
    "            if i%j == 0:      # check the reminder equals 0. the number is divisale by the divisor.\n",
    "                if i>j:       # chck the number is greater than the divisor then the number is not prime\n",
    "                    break     # skip to the next number\n",
    "                elif i/1 == i and i==j: # if the number and divisor both are same then the number is prime\n",
    "                    plist.append(i)     # add in the number to list\n",
    "                    break               # break the inner loop to the next iteration\n",
    "            else:\n",
    "                continue                # skip the operation and move to next iteration\n",
    "    print(plist)\n",
    "    \n",
    "prime(100)"
   ]
  },
  {
   "cell_type": "code",
   "execution_count": null,
   "metadata": {},
   "outputs": [],
   "source": []
  }
 ],
 "metadata": {
  "kernelspec": {
   "display_name": "Python 3",
   "language": "python",
   "name": "python3"
  },
  "language_info": {
   "codemirror_mode": {
    "name": "ipython",
    "version": 3
   },
   "file_extension": ".py",
   "mimetype": "text/x-python",
   "name": "python",
   "nbconvert_exporter": "python",
   "pygments_lexer": "ipython3",
   "version": "3.7.4"
  }
 },
 "nbformat": 4,
 "nbformat_minor": 2
}
