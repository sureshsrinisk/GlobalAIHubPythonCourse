{
 "cells": [
  {
   "attachments": {
    "image.png": {
     "image/png": "[encoded data removed]"
    }
   },
   "cell_type": "markdown",
   "metadata": {},
   "source": [
    "![image.png](attachment:image.png)"
   ]
  },
  {
   "cell_type": "code",
   "execution_count": 139,
   "metadata": {},
   "outputs": [],
   "source": [
    "class cms():\n",
    "    def __init__(self,name,age,manager):\n",
    "        self.emp_name=name\n",
    "        self.emp_age=age\n",
    "        self.comp_manager=manager\n",
    "        self.language_speak=[]\n",
    "        \n",
    "    def welcome_employee(self):\n",
    "        print('Hello,{} !'.format(self.emp_name))\n",
    "        print(\"Welcome to the Company Management System \")\n",
    "    \n",
    "    def showAge(self):\n",
    "        print('Age of {} is {}'.format(self.emp_name,self.emp_age))\n",
    "        \n",
    "    def showManager(self):\n",
    "        print('Manager of {} is {}'.format(self.emp_name,self.comp_manager))\n",
    "    \n",
    "    def addlanguage(self,language):\n",
    "        print('Adding New Langauage')\n",
    "        self.language_speak.append(language)\n",
    "        \n",
    "    def show_languages(self):\n",
    "        print('Languages could speak by {}:'.format(self.emp_name))\n",
    "        for i in self.language_speak:\n",
    "            print(i)\n",
    "        \n",
    "    def show_emp_info(self):\n",
    "        print('Employee Name :{}'.format(self.emp_name))\n",
    "        print('Age : {}'.format(self.emp_age))\n",
    "        print('Reporting Manager :{}'.format(self.comp_manager))\n",
    "        print('Languages could speak by {}:'.format(self.emp_name))\n",
    "        for i in self.language_speak:\n",
    "            print(i)\n",
    "\n",
    "class employee(cms):\n",
    "    def __init__(self,name,age,manager):\n",
    "        super().__init__(name,age,manager)\n",
    "        \n",
    "class manager(cms):\n",
    "    def __init__(self,name,age):\n",
    "        super().__init__(name,age,manager)"
   ]
  },
  {
   "cell_type": "markdown",
   "metadata": {},
   "source": [
    "Manager Record Entry"
   ]
  },
  {
   "cell_type": "code",
   "execution_count": 140,
   "metadata": {},
   "outputs": [],
   "source": [
    "Tuana=manager('Tuana',22)"
   ]
  },
  {
   "cell_type": "code",
   "execution_count": 141,
   "metadata": {},
   "outputs": [
    {
     "name": "stdout",
     "output_type": "stream",
     "text": [
      "Adding New Langauage\n"
     ]
    }
   ],
   "source": [
    "Tuana.addlanguage('English')"
   ]
  },
  {
   "cell_type": "code",
   "execution_count": 142,
   "metadata": {},
   "outputs": [
    {
     "name": "stdout",
     "output_type": "stream",
     "text": [
      "Adding New Langauage\n"
     ]
    }
   ],
   "source": [
    "Tuana.addlanguage('Spanish')"
   ]
  },
  {
   "cell_type": "code",
   "execution_count": 143,
   "metadata": {
    "scrolled": true
   },
   "outputs": [
    {
     "name": "stdout",
     "output_type": "stream",
     "text": [
      "Hello,Tuana !\n",
      "Welcome to the Company Management System \n"
     ]
    }
   ],
   "source": [
    "Tuana.welcome_employee()"
   ]
  },
  {
   "cell_type": "code",
   "execution_count": 144,
   "metadata": {},
   "outputs": [
    {
     "name": "stdout",
     "output_type": "stream",
     "text": [
      "Age of Tuana is 22\n"
     ]
    }
   ],
   "source": [
    "Tuana.showAge()"
   ]
  },
  {
   "cell_type": "code",
   "execution_count": 145,
   "metadata": {},
   "outputs": [
    {
     "name": "stdout",
     "output_type": "stream",
     "text": [
      "Languages could speak by Tuana:\n",
      "English\n",
      "Spanish\n"
     ]
    }
   ],
   "source": [
    "Tuana.show_languages()"
   ]
  },
  {
   "cell_type": "code",
   "execution_count": 146,
   "metadata": {
    "scrolled": true
   },
   "outputs": [
    {
     "name": "stdout",
     "output_type": "stream",
     "text": [
      "Employee Name :Tuana\n",
      "Age : 22\n",
      "Reporting Manager :<class '__main__.manager'>\n",
      "Languages could speak by Tuana:\n",
      "English\n",
      "Spanish\n"
     ]
    }
   ],
   "source": [
    "Tuana.show_emp_info()"
   ]
  },
  {
   "cell_type": "markdown",
   "metadata": {},
   "source": [
    "Employee Record Entry"
   ]
  },
  {
   "cell_type": "markdown",
   "metadata": {},
   "source": [
    "Employee 1"
   ]
  },
  {
   "cell_type": "code",
   "execution_count": 147,
   "metadata": {},
   "outputs": [],
   "source": [
    "suresh=employee('SureshSrini',48,'Tuana')"
   ]
  },
  {
   "cell_type": "code",
   "execution_count": 148,
   "metadata": {},
   "outputs": [
    {
     "name": "stdout",
     "output_type": "stream",
     "text": [
      "Adding New Langauage\n"
     ]
    }
   ],
   "source": [
    "suresh.addlanguage('Tamil')"
   ]
  },
  {
   "cell_type": "code",
   "execution_count": 149,
   "metadata": {},
   "outputs": [
    {
     "name": "stdout",
     "output_type": "stream",
     "text": [
      "Adding New Langauage\n"
     ]
    }
   ],
   "source": [
    "suresh.addlanguage('English')"
   ]
  },
  {
   "cell_type": "code",
   "execution_count": 150,
   "metadata": {},
   "outputs": [
    {
     "name": "stdout",
     "output_type": "stream",
     "text": [
      "Adding New Langauage\n"
     ]
    }
   ],
   "source": [
    "suresh.addlanguage('Hindi')"
   ]
  },
  {
   "cell_type": "code",
   "execution_count": 151,
   "metadata": {},
   "outputs": [
    {
     "name": "stdout",
     "output_type": "stream",
     "text": [
      "Hello,SureshSrini !\n",
      "Welcome to the Company Management System \n"
     ]
    }
   ],
   "source": [
    "suresh.welcome_employee()"
   ]
  },
  {
   "cell_type": "code",
   "execution_count": 152,
   "metadata": {},
   "outputs": [
    {
     "name": "stdout",
     "output_type": "stream",
     "text": [
      "Age of SureshSrini is 48\n"
     ]
    }
   ],
   "source": [
    "suresh.showAge()"
   ]
  },
  {
   "cell_type": "code",
   "execution_count": 153,
   "metadata": {},
   "outputs": [
    {
     "name": "stdout",
     "output_type": "stream",
     "text": [
      "Manager of SureshSrini is Tuana\n"
     ]
    }
   ],
   "source": [
    "suresh.showManager()"
   ]
  },
  {
   "cell_type": "code",
   "execution_count": 154,
   "metadata": {},
   "outputs": [
    {
     "name": "stdout",
     "output_type": "stream",
     "text": [
      "Languages could speak by SureshSrini:\n",
      "Tamil\n",
      "English\n",
      "Hindi\n"
     ]
    }
   ],
   "source": [
    "suresh.show_languages()"
   ]
  },
  {
   "cell_type": "code",
   "execution_count": 155,
   "metadata": {
    "scrolled": true
   },
   "outputs": [
    {
     "name": "stdout",
     "output_type": "stream",
     "text": [
      "Employee Name :SureshSrini\n",
      "Age : 48\n",
      "Reporting Manager :Tuana\n",
      "Languages could speak by SureshSrini:\n",
      "Tamil\n",
      "English\n",
      "Hindi\n"
     ]
    }
   ],
   "source": [
    "suresh.show_emp_info()"
   ]
  },
  {
   "cell_type": "markdown",
   "metadata": {},
   "source": [
    "Employee 2"
   ]
  },
  {
   "cell_type": "code",
   "execution_count": 156,
   "metadata": {},
   "outputs": [],
   "source": [
    "trump=employee('Trump',70,'Joe')"
   ]
  },
  {
   "cell_type": "code",
   "execution_count": 157,
   "metadata": {},
   "outputs": [
    {
     "name": "stdout",
     "output_type": "stream",
     "text": [
      "Adding New Langauage\n"
     ]
    }
   ],
   "source": [
    "trump.addlanguage('English')"
   ]
  },
  {
   "cell_type": "code",
   "execution_count": 158,
   "metadata": {},
   "outputs": [
    {
     "name": "stdout",
     "output_type": "stream",
     "text": [
      "Adding New Langauage\n"
     ]
    }
   ],
   "source": [
    "trump.addlanguage('French')"
   ]
  },
  {
   "cell_type": "code",
   "execution_count": 159,
   "metadata": {},
   "outputs": [
    {
     "name": "stdout",
     "output_type": "stream",
     "text": [
      "Adding New Langauage\n"
     ]
    }
   ],
   "source": [
    "trump.addlanguage('Spanish')"
   ]
  },
  {
   "cell_type": "code",
   "execution_count": 160,
   "metadata": {},
   "outputs": [
    {
     "name": "stdout",
     "output_type": "stream",
     "text": [
      "Manager of Trump is Joe\n"
     ]
    }
   ],
   "source": [
    "trump.showManager()"
   ]
  },
  {
   "cell_type": "code",
   "execution_count": 161,
   "metadata": {
    "scrolled": true
   },
   "outputs": [
    {
     "name": "stdout",
     "output_type": "stream",
     "text": [
      "Languages could speak by Trump:\n",
      "English\n",
      "French\n",
      "Spanish\n"
     ]
    }
   ],
   "source": [
    "trump.show_languages()"
   ]
  },
  {
   "cell_type": "code",
   "execution_count": 162,
   "metadata": {},
   "outputs": [
    {
     "name": "stdout",
     "output_type": "stream",
     "text": [
      "Employee Name :Trump\n",
      "Age : 70\n",
      "Reporting Manager :Joe\n",
      "Languages could speak by Trump:\n",
      "English\n",
      "French\n",
      "Spanish\n"
     ]
    }
   ],
   "source": [
    "trump.show_emp_info()"
   ]
  }
 ],
 "metadata": {
  "kernelspec": {
   "display_name": "Python 3",
   "language": "python",
   "name": "python3"
  },
  "language_info": {
   "codemirror_mode": {
    "name": "ipython",
    "version": 3
   },
   "file_extension": ".py",
   "mimetype": "text/x-python",
   "name": "python",
   "nbconvert_exporter": "python",
   "pygments_lexer": "ipython3",
   "version": "3.7.4"
  }
 },
 "nbformat": 4,
 "nbformat_minor": 2
}
