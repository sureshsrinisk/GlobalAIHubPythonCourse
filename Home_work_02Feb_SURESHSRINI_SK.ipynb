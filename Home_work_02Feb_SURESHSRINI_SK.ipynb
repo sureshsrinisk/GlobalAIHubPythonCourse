{
 "cells": [
  {
   "attachments": {
    "image.png": {
     "image/png": "[encoded data removed]"
    }
   },
   "cell_type": "markdown",
   "metadata": {},
   "source": [
    "![image.png](attachment:image.png)"
   ]
  },
  {
   "cell_type": "markdown",
   "metadata": {},
   "source": [
    "Question 1"
   ]
  },
  {
   "cell_type": "code",
   "execution_count": 19,
   "metadata": {},
   "outputs": [
    {
     "name": "stdout",
     "output_type": "stream",
     "text": [
      "The List Element Values are :[1, 2, 3, 4, 5, 6, 7, 8, 9, 10]\n",
      "\n",
      "First Half List is [1, 2, 3, 4, 5]  and the Second Half List is [6, 7, 8, 9, 10] \n",
      "\n",
      "Swap Lists are [6, 7, 8, 9, 10] [1, 2, 3, 4, 5]\n"
     ]
    }
   ],
   "source": [
    "lst=list(range(1,11))                              # create a list of values from 1 to 10\n",
    "\n",
    "print(f\"The List Element Values are :{lst}\\n\")       # Values in the list\n",
    "\n",
    "f_hlf,s_hlf=[],[]                                  # Create an empty array for first and second half\n",
    "\n",
    "for i in range(0,len(lst)):                        # itreate the loop till the length of list\n",
    "    if i < (len(lst)/2):         # Divide the length of the list by two half, Suppose if it is below half \n",
    "        f_hlf.append(lst[i])     # append the list element value into first half array\n",
    "    else:                        # otherwise\n",
    "        s_hlf.append(lst[i])     # append the list element value into second half array\n",
    "\n",
    "# print the first and second half list of vales        \n",
    "print(\"First Half List is {}\".format(f_hlf),\" and the Second Half List is {}\".format(s_hlf),\"\\n\")          \n",
    "\n",
    "(f_hlf,s_hlf)=(s_hlf,f_hlf)      # swap the first and second half element values\n",
    "\n",
    "print(\"Swap Lists are {} {}\".format(f_hlf,s_hlf))     # print the Swap list of values"
   ]
  },
  {
   "cell_type": "markdown",
   "metadata": {},
   "source": [
    "Question 2"
   ]
  },
  {
   "cell_type": "code",
   "execution_count": 20,
   "metadata": {},
   "outputs": [
    {
     "name": "stdout",
     "output_type": "stream",
     "text": [
      "Enter a Single Digit Number :0\n",
      "Enter a Single Digit Number :1\n",
      "Enter a Single Digit Number :2\n",
      "Enter a Single Digit Number :3\n",
      "Enter a Single Digit Number :4\n",
      "Enter a Single Digit Number :5\n",
      "Enter a Single Digit Number :6\n",
      "Enter a Single Digit Number :7\n",
      "Enter a Single Digit Number :8\n",
      "\n",
      "Entered Valid Values are [0, 1, 2, 3, 4, 5, 6, 7, 8]\n",
      "\n",
      "\n",
      "Even numbers from the Valid values are [0, 2, 4, 6, 8]\n"
     ]
    }
   ],
   "source": [
    "in_lst,evn_lst=[],[]         # create an empty list for input values and even numbers\n",
    "\n",
    "for i in range(0,10,1):       # iteration will take maxiumum of 9 values (ex assume 0 to 9)\n",
    "    n=input(\"Enter a Single Digit Number :\").strip()  # omit any space character at begin or end\n",
    "    if n.isnumeric():       # check whether the input number is a numeric value\n",
    "        if len(n) ==1:      # check the length of the input for a single digit\n",
    "            in_lst.append(int(n))  # append the number to the input values list\n",
    "            if (int(n)%2)== 0:     # check whether the number is an even number\n",
    "                evn_lst.append(int(n))   # append the number to the even values list\n",
    "        else:                     # otherise display the error message\n",
    "            print(\"Value Not Added!!, Enter only a Single Digit Number\")\n",
    "            continue              # skip the entered value \n",
    "    else:                         # otherwise if other than number display error message\n",
    "        print(\"Value Not Added!!, Enter only a Single Digit Number\")\n",
    "if len(in_lst) > 0 :              # check atleast a valid input of single digit number in the list \n",
    "# print the entered values list as well as even values list\n",
    "    print(\"\\nEntered Valid Values are {}\\n\\n\".format(in_lst))\n",
    "    if len(evn_lst) > 0: # check for any even number entered\n",
    "        print(\"Even numbers from the Valid values are {}\".format(evn_lst))\n",
    "    else:\n",
    "        print(\"Sorry!!, You have not Entered any Even values\")\n",
    "else:  # otherwise ask the user to try once again.\n",
    "    print(\"\\n\\nSorry Time Out!!,You have not entered any Single Digit Number\")\n",
    "    print(\"\\n\\nTry Once Again\")"
   ]
  },
  {
   "cell_type": "code",
   "execution_count": null,
   "metadata": {},
   "outputs": [],
   "source": []
  }
 ],
 "metadata": {
  "kernelspec": {
   "display_name": "Python 3",
   "language": "python",
   "name": "python3"
  },
  "language_info": {
   "codemirror_mode": {
    "name": "ipython",
    "version": 3
   },
   "file_extension": ".py",
   "mimetype": "text/x-python",
   "name": "python",
   "nbconvert_exporter": "python",
   "pygments_lexer": "ipython3",
   "version": "3.7.4"
  }
 },
 "nbformat": 4,
 "nbformat_minor": 2
}
